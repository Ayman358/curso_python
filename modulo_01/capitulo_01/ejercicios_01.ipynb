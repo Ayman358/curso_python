{
 "cells": [
  {
   "cell_type": "markdown",
   "metadata": {},
   "source": [
    "# Ejercicios Capítulo 1\n",
    "\n",
    "Para este capítulo, nuestro único ejercicio es desplegar el zen de python. Para ello solo basta escribir la instrucción ```import this``` y ejecutar la celda. Asimismo, el código del sen de python puede ser ejecutado en un archivo script de Python."
   ]
  },
  {
   "cell_type": "code",
   "execution_count": 2,
   "metadata": {},
   "outputs": [],
   "source": [
    "# inserta tu codigo justo debajo\n"
   ]
  }
 ],
 "metadata": {
  "kernelspec": {
   "display_name": "baloto",
   "language": "python",
   "name": "python3"
  },
  "language_info": {
   "codemirror_mode": {
    "name": "ipython",
    "version": 3
   },
   "file_extension": ".py",
   "mimetype": "text/x-python",
   "name": "python",
   "nbconvert_exporter": "python",
   "pygments_lexer": "ipython3",
   "version": "3.10.9"
  }
 },
 "nbformat": 4,
 "nbformat_minor": 2
}
