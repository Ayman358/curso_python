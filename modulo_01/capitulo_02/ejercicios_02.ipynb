{
 "cells": [
  {
   "attachments": {},
   "cell_type": "markdown",
   "metadata": {},
   "source": [
    "# Ejercicios Capítulo 2"
   ]
  },
  {
   "attachments": {},
   "cell_type": "markdown",
   "metadata": {},
   "source": [
    "## Ejercicio 2.1\n",
    "\n",
    "Imprime el texto que quieras, ¿Qué dices de un \"Hola\" seguido de tu nombre?\n",
    "\n"
   ]
  },
  {
   "cell_type": "code",
   "execution_count": null,
   "metadata": {},
   "outputs": [],
   "source": [
    "# inserta tu codigo justo debajo\n",
    "\n"
   ]
  },
  {
   "attachments": {},
   "cell_type": "markdown",
   "metadata": {},
   "source": [
    "## Ejercicio 2.2\n",
    "\n",
    "Imprime en una misma línea dos textos y dos números. "
   ]
  },
  {
   "cell_type": "code",
   "execution_count": null,
   "metadata": {},
   "outputs": [],
   "source": [
    "# inserta tu codigo justo debajo"
   ]
  },
  {
   "attachments": {},
   "cell_type": "markdown",
   "metadata": {},
   "source": [
    "## Ejercicio 2.3\n",
    "\n",
    "Despliegue el siguiente patrón de diseño mediante ocho instrucciones ```print```, y después despliegue el mismo patrón con el menor número posible de instrucciones ```print```\n",
    "\n",
    "\n",
    "```plain\n",
    "* * * * * * * *\n",
    " * * * * * * * *\n",
    "* * * * * * * *\n",
    " * * * * * * * *\n",
    "* * * * * * * *\n",
    " * * * * * * * *\n",
    "* * * * * * * *\n",
    " * * * * * * * *\n",
    "```"
   ]
  },
  {
   "cell_type": "code",
   "execution_count": null,
   "metadata": {},
   "outputs": [],
   "source": [
    "# inserta tu codigo justo debajo\n",
    "\n"
   ]
  },
  {
   "attachments": {},
   "cell_type": "markdown",
   "metadata": {},
   "source": [
    "## Ejercicio 2.4\n",
    "\n",
    "Despliegue el siguiente patrón de diseño mediante ocho instrucciones ```print```, y después despliegue el mismo patrón con el menor número posible de instrucciones ```print```\n",
    "\n",
    "```plain\n",
    "* \n",
    "* * \n",
    "* * * \n",
    "* * * * \n",
    "* * * * * \n",
    "* * * * * * \n",
    "* * * * * * * \n",
    "* * * * * * * * \n",
    "* * * * * * * * * \n",
    "* * * * * * * * * * \n",
    "* * * * * * * * * * * \n",
    "```"
   ]
  },
  {
   "cell_type": "code",
   "execution_count": null,
   "metadata": {},
   "outputs": [],
   "source": [
    "# inserta tu codigo justo debajo\n",
    "\n"
   ]
  }
 ],
 "metadata": {
  "language_info": {
   "name": "python"
  },
  "orig_nbformat": 4
 },
 "nbformat": 4,
 "nbformat_minor": 2
}
